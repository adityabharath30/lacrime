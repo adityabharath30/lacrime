{
 "cells": [
  {
   "cell_type": "code",
   "execution_count": 1,
   "id": "e8d3e4a8-e90e-4b2d-bb78-2eb1a0f016b6",
   "metadata": {},
   "outputs": [],
   "source": [
    "import pandas as pd\n",
    "import numpy as np\n",
    "import seaborn as sns\n",
    "import matplotlib.pyplot as plt\n",
    "import plotly as pt\n",
    "import shapefile as shp\n",
    "import geopandas as gpd\n",
    "import matplotlib.dates as mdates  "
   ]
  },
  {
   "cell_type": "markdown",
   "id": "81237512-7567-4542-a153-eb1a0675b244",
   "metadata": {},
   "source": [
    "# Data Loading"
   ]
  },
  {
   "cell_type": "code",
   "execution_count": 2,
   "id": "e5c5aab4-c0cc-4085-b06a-754ddc1b3349",
   "metadata": {},
   "outputs": [
    {
     "data": {
      "text/html": [
       "<div>\n",
       "<style scoped>\n",
       "    .dataframe tbody tr th:only-of-type {\n",
       "        vertical-align: middle;\n",
       "    }\n",
       "\n",
       "    .dataframe tbody tr th {\n",
       "        vertical-align: top;\n",
       "    }\n",
       "\n",
       "    .dataframe thead th {\n",
       "        text-align: right;\n",
       "    }\n",
       "</style>\n",
       "<table border=\"1\" class=\"dataframe\">\n",
       "  <thead>\n",
       "    <tr style=\"text-align: right;\">\n",
       "      <th></th>\n",
       "      <th>DR_NO</th>\n",
       "      <th>Date Rptd</th>\n",
       "      <th>DATE OCC</th>\n",
       "      <th>TIME OCC</th>\n",
       "      <th>AREA</th>\n",
       "      <th>AREA NAME</th>\n",
       "      <th>Rpt Dist No</th>\n",
       "      <th>Part 1-2</th>\n",
       "      <th>Crm Cd</th>\n",
       "      <th>Crm Cd Desc</th>\n",
       "      <th>...</th>\n",
       "      <th>Status</th>\n",
       "      <th>Status Desc</th>\n",
       "      <th>Crm Cd 1</th>\n",
       "      <th>Crm Cd 2</th>\n",
       "      <th>Crm Cd 3</th>\n",
       "      <th>Crm Cd 4</th>\n",
       "      <th>LOCATION</th>\n",
       "      <th>Cross Street</th>\n",
       "      <th>LAT</th>\n",
       "      <th>LON</th>\n",
       "    </tr>\n",
       "  </thead>\n",
       "  <tbody>\n",
       "    <tr>\n",
       "      <th>0</th>\n",
       "      <td>10304468</td>\n",
       "      <td>01/08/2020 12:00:00 AM</td>\n",
       "      <td>01/08/2020 12:00:00 AM</td>\n",
       "      <td>2230</td>\n",
       "      <td>3</td>\n",
       "      <td>Southwest</td>\n",
       "      <td>377</td>\n",
       "      <td>2</td>\n",
       "      <td>624</td>\n",
       "      <td>BATTERY - SIMPLE ASSAULT</td>\n",
       "      <td>...</td>\n",
       "      <td>AO</td>\n",
       "      <td>Adult Other</td>\n",
       "      <td>624.0</td>\n",
       "      <td>NaN</td>\n",
       "      <td>NaN</td>\n",
       "      <td>NaN</td>\n",
       "      <td>1100 W  39TH                         PL</td>\n",
       "      <td>NaN</td>\n",
       "      <td>34.0141</td>\n",
       "      <td>-118.2978</td>\n",
       "    </tr>\n",
       "    <tr>\n",
       "      <th>1</th>\n",
       "      <td>190101086</td>\n",
       "      <td>01/02/2020 12:00:00 AM</td>\n",
       "      <td>01/01/2020 12:00:00 AM</td>\n",
       "      <td>330</td>\n",
       "      <td>1</td>\n",
       "      <td>Central</td>\n",
       "      <td>163</td>\n",
       "      <td>2</td>\n",
       "      <td>624</td>\n",
       "      <td>BATTERY - SIMPLE ASSAULT</td>\n",
       "      <td>...</td>\n",
       "      <td>IC</td>\n",
       "      <td>Invest Cont</td>\n",
       "      <td>624.0</td>\n",
       "      <td>NaN</td>\n",
       "      <td>NaN</td>\n",
       "      <td>NaN</td>\n",
       "      <td>700 S  HILL                         ST</td>\n",
       "      <td>NaN</td>\n",
       "      <td>34.0459</td>\n",
       "      <td>-118.2545</td>\n",
       "    </tr>\n",
       "    <tr>\n",
       "      <th>2</th>\n",
       "      <td>200110444</td>\n",
       "      <td>04/14/2020 12:00:00 AM</td>\n",
       "      <td>02/13/2020 12:00:00 AM</td>\n",
       "      <td>1200</td>\n",
       "      <td>1</td>\n",
       "      <td>Central</td>\n",
       "      <td>155</td>\n",
       "      <td>2</td>\n",
       "      <td>845</td>\n",
       "      <td>SEX OFFENDER REGISTRANT OUT OF COMPLIANCE</td>\n",
       "      <td>...</td>\n",
       "      <td>AA</td>\n",
       "      <td>Adult Arrest</td>\n",
       "      <td>845.0</td>\n",
       "      <td>NaN</td>\n",
       "      <td>NaN</td>\n",
       "      <td>NaN</td>\n",
       "      <td>200 E  6TH                          ST</td>\n",
       "      <td>NaN</td>\n",
       "      <td>34.0448</td>\n",
       "      <td>-118.2474</td>\n",
       "    </tr>\n",
       "    <tr>\n",
       "      <th>3</th>\n",
       "      <td>191501505</td>\n",
       "      <td>01/01/2020 12:00:00 AM</td>\n",
       "      <td>01/01/2020 12:00:00 AM</td>\n",
       "      <td>1730</td>\n",
       "      <td>15</td>\n",
       "      <td>N Hollywood</td>\n",
       "      <td>1543</td>\n",
       "      <td>2</td>\n",
       "      <td>745</td>\n",
       "      <td>VANDALISM - MISDEAMEANOR ($399 OR UNDER)</td>\n",
       "      <td>...</td>\n",
       "      <td>IC</td>\n",
       "      <td>Invest Cont</td>\n",
       "      <td>745.0</td>\n",
       "      <td>998.0</td>\n",
       "      <td>NaN</td>\n",
       "      <td>NaN</td>\n",
       "      <td>5400    CORTEEN                      PL</td>\n",
       "      <td>NaN</td>\n",
       "      <td>34.1685</td>\n",
       "      <td>-118.4019</td>\n",
       "    </tr>\n",
       "    <tr>\n",
       "      <th>4</th>\n",
       "      <td>191921269</td>\n",
       "      <td>01/01/2020 12:00:00 AM</td>\n",
       "      <td>01/01/2020 12:00:00 AM</td>\n",
       "      <td>415</td>\n",
       "      <td>19</td>\n",
       "      <td>Mission</td>\n",
       "      <td>1998</td>\n",
       "      <td>2</td>\n",
       "      <td>740</td>\n",
       "      <td>VANDALISM - FELONY ($400 &amp; OVER, ALL CHURCH VA...</td>\n",
       "      <td>...</td>\n",
       "      <td>IC</td>\n",
       "      <td>Invest Cont</td>\n",
       "      <td>740.0</td>\n",
       "      <td>NaN</td>\n",
       "      <td>NaN</td>\n",
       "      <td>NaN</td>\n",
       "      <td>14400    TITUS                        ST</td>\n",
       "      <td>NaN</td>\n",
       "      <td>34.2198</td>\n",
       "      <td>-118.4468</td>\n",
       "    </tr>\n",
       "  </tbody>\n",
       "</table>\n",
       "<p>5 rows × 28 columns</p>\n",
       "</div>"
      ],
      "text/plain": [
       "       DR_NO               Date Rptd                DATE OCC  TIME OCC  AREA  \\\n",
       "0   10304468  01/08/2020 12:00:00 AM  01/08/2020 12:00:00 AM      2230     3   \n",
       "1  190101086  01/02/2020 12:00:00 AM  01/01/2020 12:00:00 AM       330     1   \n",
       "2  200110444  04/14/2020 12:00:00 AM  02/13/2020 12:00:00 AM      1200     1   \n",
       "3  191501505  01/01/2020 12:00:00 AM  01/01/2020 12:00:00 AM      1730    15   \n",
       "4  191921269  01/01/2020 12:00:00 AM  01/01/2020 12:00:00 AM       415    19   \n",
       "\n",
       "     AREA NAME  Rpt Dist No  Part 1-2  Crm Cd  \\\n",
       "0    Southwest          377         2     624   \n",
       "1      Central          163         2     624   \n",
       "2      Central          155         2     845   \n",
       "3  N Hollywood         1543         2     745   \n",
       "4      Mission         1998         2     740   \n",
       "\n",
       "                                         Crm Cd Desc  ... Status  \\\n",
       "0                           BATTERY - SIMPLE ASSAULT  ...     AO   \n",
       "1                           BATTERY - SIMPLE ASSAULT  ...     IC   \n",
       "2          SEX OFFENDER REGISTRANT OUT OF COMPLIANCE  ...     AA   \n",
       "3           VANDALISM - MISDEAMEANOR ($399 OR UNDER)  ...     IC   \n",
       "4  VANDALISM - FELONY ($400 & OVER, ALL CHURCH VA...  ...     IC   \n",
       "\n",
       "    Status Desc Crm Cd 1 Crm Cd 2  Crm Cd 3 Crm Cd 4  \\\n",
       "0   Adult Other    624.0      NaN       NaN      NaN   \n",
       "1   Invest Cont    624.0      NaN       NaN      NaN   \n",
       "2  Adult Arrest    845.0      NaN       NaN      NaN   \n",
       "3   Invest Cont    745.0    998.0       NaN      NaN   \n",
       "4   Invest Cont    740.0      NaN       NaN      NaN   \n",
       "\n",
       "                                   LOCATION Cross Street      LAT       LON  \n",
       "0   1100 W  39TH                         PL          NaN  34.0141 -118.2978  \n",
       "1    700 S  HILL                         ST          NaN  34.0459 -118.2545  \n",
       "2    200 E  6TH                          ST          NaN  34.0448 -118.2474  \n",
       "3   5400    CORTEEN                      PL          NaN  34.1685 -118.4019  \n",
       "4  14400    TITUS                        ST          NaN  34.2198 -118.4468  \n",
       "\n",
       "[5 rows x 28 columns]"
      ]
     },
     "execution_count": 2,
     "metadata": {},
     "output_type": "execute_result"
    }
   ],
   "source": [
    "crimes = pd.read_csv('crimes.csv')\n",
    "crimes.head(5)"
   ]
  },
  {
   "cell_type": "code",
   "execution_count": 3,
   "id": "761331e7-70f4-4842-a921-4f0047d1ab6b",
   "metadata": {},
   "outputs": [
    {
     "data": {
      "text/plain": [
       "Index(['DR_NO', 'Date Rptd', 'DATE OCC', 'TIME OCC', 'AREA', 'AREA NAME',\n",
       "       'Rpt Dist No', 'Part 1-2', 'Crm Cd', 'Crm Cd Desc', 'Mocodes',\n",
       "       'Vict Age', 'Vict Sex', 'Vict Descent', 'Premis Cd', 'Premis Desc',\n",
       "       'Weapon Used Cd', 'Weapon Desc', 'Status', 'Status Desc', 'Crm Cd 1',\n",
       "       'Crm Cd 2', 'Crm Cd 3', 'Crm Cd 4', 'LOCATION', 'Cross Street', 'LAT',\n",
       "       'LON'],\n",
       "      dtype='object')"
      ]
     },
     "execution_count": 3,
     "metadata": {},
     "output_type": "execute_result"
    }
   ],
   "source": [
    "crimes.columns"
   ]
  },
  {
   "cell_type": "code",
   "execution_count": 4,
   "id": "1c9ddecc-bab3-4763-b9a4-e919b839f190",
   "metadata": {},
   "outputs": [
    {
     "data": {
      "text/html": [
       "<div>\n",
       "<style scoped>\n",
       "    .dataframe tbody tr th:only-of-type {\n",
       "        vertical-align: middle;\n",
       "    }\n",
       "\n",
       "    .dataframe tbody tr th {\n",
       "        vertical-align: top;\n",
       "    }\n",
       "\n",
       "    .dataframe thead th {\n",
       "        text-align: right;\n",
       "    }\n",
       "</style>\n",
       "<table border=\"1\" class=\"dataframe\">\n",
       "  <thead>\n",
       "    <tr style=\"text-align: right;\">\n",
       "      <th></th>\n",
       "      <th>Report ID</th>\n",
       "      <th>Report Type</th>\n",
       "      <th>Arrest Date</th>\n",
       "      <th>Time</th>\n",
       "      <th>Area ID</th>\n",
       "      <th>Area Name</th>\n",
       "      <th>Reporting District</th>\n",
       "      <th>Age</th>\n",
       "      <th>Sex Code</th>\n",
       "      <th>Descent Code</th>\n",
       "      <th>...</th>\n",
       "      <th>Disposition Description</th>\n",
       "      <th>Address</th>\n",
       "      <th>Cross Street</th>\n",
       "      <th>LAT</th>\n",
       "      <th>LON</th>\n",
       "      <th>Location</th>\n",
       "      <th>Booking Date</th>\n",
       "      <th>Booking Time</th>\n",
       "      <th>Booking Location</th>\n",
       "      <th>Booking Location Code</th>\n",
       "    </tr>\n",
       "  </thead>\n",
       "  <tbody>\n",
       "    <tr>\n",
       "      <th>0</th>\n",
       "      <td>6636966</td>\n",
       "      <td>BOOKING</td>\n",
       "      <td>07/06/2023 12:00:00 AM</td>\n",
       "      <td>2250.0</td>\n",
       "      <td>8</td>\n",
       "      <td>West LA</td>\n",
       "      <td>817</td>\n",
       "      <td>46</td>\n",
       "      <td>M</td>\n",
       "      <td>B</td>\n",
       "      <td>...</td>\n",
       "      <td>MISDEMEANOR COMPLAINT FILED</td>\n",
       "      <td>900    GAYLEY                       AV</td>\n",
       "      <td>NaN</td>\n",
       "      <td>34.0637</td>\n",
       "      <td>-118.4482</td>\n",
       "      <td>POINT (-118.4482 34.0637)</td>\n",
       "      <td>07/07/2023 12:00:00 AM</td>\n",
       "      <td>143.0</td>\n",
       "      <td>METRO - JAIL DIVISION</td>\n",
       "      <td>4273.0</td>\n",
       "    </tr>\n",
       "    <tr>\n",
       "      <th>1</th>\n",
       "      <td>6637119</td>\n",
       "      <td>BOOKING</td>\n",
       "      <td>07/07/2023 12:00:00 AM</td>\n",
       "      <td>1000.0</td>\n",
       "      <td>3</td>\n",
       "      <td>Southwest</td>\n",
       "      <td>396</td>\n",
       "      <td>39</td>\n",
       "      <td>M</td>\n",
       "      <td>B</td>\n",
       "      <td>...</td>\n",
       "      <td>MISDEMEANOR COMPLAINT FILED</td>\n",
       "      <td>40TH                         PL</td>\n",
       "      <td>VERMONT</td>\n",
       "      <td>34.0100</td>\n",
       "      <td>-118.2915</td>\n",
       "      <td>POINT (-118.2915 34.01)</td>\n",
       "      <td>07/07/2023 12:00:00 AM</td>\n",
       "      <td>1156.0</td>\n",
       "      <td>77TH ST</td>\n",
       "      <td>4212.0</td>\n",
       "    </tr>\n",
       "    <tr>\n",
       "      <th>2</th>\n",
       "      <td>6624479</td>\n",
       "      <td>BOOKING</td>\n",
       "      <td>06/15/2023 12:00:00 AM</td>\n",
       "      <td>1850.0</td>\n",
       "      <td>7</td>\n",
       "      <td>Wilshire</td>\n",
       "      <td>724</td>\n",
       "      <td>33</td>\n",
       "      <td>F</td>\n",
       "      <td>H</td>\n",
       "      <td>...</td>\n",
       "      <td>MISDEMEANOR COMPLAINT FILED</td>\n",
       "      <td>100    THE GROVE                    DR</td>\n",
       "      <td>NaN</td>\n",
       "      <td>34.0736</td>\n",
       "      <td>-118.3563</td>\n",
       "      <td>POINT (-118.3563 34.0736)</td>\n",
       "      <td>06/15/2023 12:00:00 AM</td>\n",
       "      <td>2251.0</td>\n",
       "      <td>77TH ST</td>\n",
       "      <td>4212.0</td>\n",
       "    </tr>\n",
       "    <tr>\n",
       "      <th>3</th>\n",
       "      <td>6636128</td>\n",
       "      <td>BOOKING</td>\n",
       "      <td>07/05/2023 12:00:00 AM</td>\n",
       "      <td>1550.0</td>\n",
       "      <td>2</td>\n",
       "      <td>Rampart</td>\n",
       "      <td>218</td>\n",
       "      <td>30</td>\n",
       "      <td>F</td>\n",
       "      <td>B</td>\n",
       "      <td>...</td>\n",
       "      <td>MISDEMEANOR COMPLAINT FILED</td>\n",
       "      <td>1000    ECHO PARK                    AV</td>\n",
       "      <td>NaN</td>\n",
       "      <td>34.0741</td>\n",
       "      <td>-118.2590</td>\n",
       "      <td>POINT (-118.259 34.0741)</td>\n",
       "      <td>07/05/2023 12:00:00 AM</td>\n",
       "      <td>1940.0</td>\n",
       "      <td>METRO - JAIL DIVISION</td>\n",
       "      <td>4273.0</td>\n",
       "    </tr>\n",
       "    <tr>\n",
       "      <th>4</th>\n",
       "      <td>6636650</td>\n",
       "      <td>BOOKING</td>\n",
       "      <td>07/06/2023 12:00:00 AM</td>\n",
       "      <td>1335.0</td>\n",
       "      <td>12</td>\n",
       "      <td>77th Street</td>\n",
       "      <td>1258</td>\n",
       "      <td>31</td>\n",
       "      <td>M</td>\n",
       "      <td>H</td>\n",
       "      <td>...</td>\n",
       "      <td>NaN</td>\n",
       "      <td>7800 S  BROADWAY</td>\n",
       "      <td>NaN</td>\n",
       "      <td>33.9689</td>\n",
       "      <td>-118.2783</td>\n",
       "      <td>POINT (-118.2783 33.9689)</td>\n",
       "      <td>07/06/2023 12:00:00 AM</td>\n",
       "      <td>1345.0</td>\n",
       "      <td>77TH ST</td>\n",
       "      <td>4212.0</td>\n",
       "    </tr>\n",
       "  </tbody>\n",
       "</table>\n",
       "<p>5 rows × 25 columns</p>\n",
       "</div>"
      ],
      "text/plain": [
       "   Report ID Report Type             Arrest Date    Time  Area ID  \\\n",
       "0    6636966     BOOKING  07/06/2023 12:00:00 AM  2250.0        8   \n",
       "1    6637119     BOOKING  07/07/2023 12:00:00 AM  1000.0        3   \n",
       "2    6624479     BOOKING  06/15/2023 12:00:00 AM  1850.0        7   \n",
       "3    6636128     BOOKING  07/05/2023 12:00:00 AM  1550.0        2   \n",
       "4    6636650     BOOKING  07/06/2023 12:00:00 AM  1335.0       12   \n",
       "\n",
       "     Area Name  Reporting District  Age Sex Code Descent Code  ...  \\\n",
       "0      West LA                 817   46        M            B  ...   \n",
       "1    Southwest                 396   39        M            B  ...   \n",
       "2     Wilshire                 724   33        F            H  ...   \n",
       "3      Rampart                 218   30        F            B  ...   \n",
       "4  77th Street                1258   31        M            H  ...   \n",
       "\n",
       "       Disposition Description                                  Address  \\\n",
       "0  MISDEMEANOR COMPLAINT FILED   900    GAYLEY                       AV   \n",
       "1  MISDEMEANOR COMPLAINT FILED          40TH                         PL   \n",
       "2  MISDEMEANOR COMPLAINT FILED   100    THE GROVE                    DR   \n",
       "3  MISDEMEANOR COMPLAINT FILED  1000    ECHO PARK                    AV   \n",
       "4                          NaN                         7800 S  BROADWAY   \n",
       "\n",
       "  Cross Street      LAT       LON                   Location  \\\n",
       "0          NaN  34.0637 -118.4482  POINT (-118.4482 34.0637)   \n",
       "1      VERMONT  34.0100 -118.2915    POINT (-118.2915 34.01)   \n",
       "2          NaN  34.0736 -118.3563  POINT (-118.3563 34.0736)   \n",
       "3          NaN  34.0741 -118.2590   POINT (-118.259 34.0741)   \n",
       "4          NaN  33.9689 -118.2783  POINT (-118.2783 33.9689)   \n",
       "\n",
       "             Booking Date Booking Time       Booking Location  \\\n",
       "0  07/07/2023 12:00:00 AM        143.0  METRO - JAIL DIVISION   \n",
       "1  07/07/2023 12:00:00 AM       1156.0                77TH ST   \n",
       "2  06/15/2023 12:00:00 AM       2251.0                77TH ST   \n",
       "3  07/05/2023 12:00:00 AM       1940.0  METRO - JAIL DIVISION   \n",
       "4  07/06/2023 12:00:00 AM       1345.0                77TH ST   \n",
       "\n",
       "   Booking Location Code  \n",
       "0                 4273.0  \n",
       "1                 4212.0  \n",
       "2                 4212.0  \n",
       "3                 4273.0  \n",
       "4                 4212.0  \n",
       "\n",
       "[5 rows x 25 columns]"
      ]
     },
     "execution_count": 4,
     "metadata": {},
     "output_type": "execute_result"
    }
   ],
   "source": [
    "arrests = pd.read_csv('arrests.csv')\n",
    "arrests.head()"
   ]
  },
  {
   "cell_type": "code",
   "execution_count": 5,
   "id": "30b18209-eb04-4675-952d-09748313bd5f",
   "metadata": {},
   "outputs": [
    {
     "data": {
      "text/plain": [
       "Index(['Report ID', 'Report Type', 'Arrest Date', 'Time', 'Area ID',\n",
       "       'Area Name', 'Reporting District', 'Age', 'Sex Code', 'Descent Code',\n",
       "       'Charge Group Code', 'Charge Group Description', 'Arrest Type Code',\n",
       "       'Charge', 'Charge Description', 'Disposition Description', 'Address',\n",
       "       'Cross Street', 'LAT', 'LON', 'Location', 'Booking Date',\n",
       "       'Booking Time', 'Booking Location', 'Booking Location Code'],\n",
       "      dtype='object')"
      ]
     },
     "execution_count": 5,
     "metadata": {},
     "output_type": "execute_result"
    }
   ],
   "source": [
    "arrests.columns"
   ]
  },
  {
   "cell_type": "markdown",
   "id": "fb79b9c7-28f5-4376-98b7-89c9db5f69f3",
   "metadata": {},
   "source": [
    "# Data Cleaning"
   ]
  },
  {
   "cell_type": "code",
   "execution_count": 6,
   "id": "50c95595-8a5b-43f8-b293-b0bf4915bbbf",
   "metadata": {},
   "outputs": [],
   "source": [
    "arrests['Arrest Date'] = pd.to_datetime(arrests['Arrest Date'])\n",
    "arrests['Booking Date'] = pd.to_datetime(arrests['Booking Date'])\n",
    "crimes['Date Rptd'] = pd.to_datetime(crimes['Date Rptd'])\n",
    "crimes['DATE OCC'] = pd.to_datetime(crimes['DATE OCC'])"
   ]
  },
  {
   "cell_type": "code",
   "execution_count": 7,
   "id": "76e9cc02-a636-4e57-8018-2a836f7e9121",
   "metadata": {},
   "outputs": [],
   "source": [
    "crimes.drop(['AREA','Rpt Dist No','Part 1-2','Crm Cd','Crm Cd 1',\n",
    "       'Crm Cd 2', 'Crm Cd 3', 'Crm Cd 4', 'LOCATION', 'Cross Street'],axis=1,inplace=True)\n",
    "arrests.drop(['Report Type','Area ID','Charge Group Code','Address','Booking Location Code'],axis=1,inplace=True)"
   ]
  },
  {
   "cell_type": "markdown",
   "id": "a87fd09d-e9c4-4240-bfa5-4244d24ccb96",
   "metadata": {},
   "source": [
    "# Research Questions"
   ]
  },
  {
   "cell_type": "markdown",
   "id": "ddb45653-5aaf-4fde-9696-27bd62069dfb",
   "metadata": {},
   "source": [
    "### What is the demographic profile of the victims"
   ]
  },
  {
   "cell_type": "code",
   "execution_count": 8,
   "id": "c786bdef-0dcc-48cd-b45e-d60e5341a2c7",
   "metadata": {},
   "outputs": [
    {
     "data": {
      "image/png": "[encoded data removed]",
      "text/plain": [
       "<Figure size 504x504 with 1 Axes>"
      ]
     },
     "metadata": {},
     "output_type": "display_data"
    }
   ],
   "source": [
    "plt.figure(figsize=(7,7))\n",
    "plt.pie(crimes['Vict Descent'].value_counts().sort_values(ascending=False).head(5)\n",
    ",labels=crimes['Vict Descent'].value_counts().sort_values(ascending=False).head(5)\n",
    ".index, autopct='%1.1f%%')\n",
    "plt.title('Proportion of Race of Victims')\n",
    "plt.text(x = 1,y=1,s = ('Hispanic','Other','Unknown','Black','White'))\n",
    "plt.axis('equal')\n",
    "plt.show()"
   ]
  },
  {
   "cell_type": "code",
   "execution_count": 9,
   "id": "ad75ce3c-6f92-401a-8956-6c326af6266a",
   "metadata": {},
   "outputs": [
    {
     "data": {
      "text/html": [
       "<div>\n",
       "<style scoped>\n",
       "    .dataframe tbody tr th:only-of-type {\n",
       "        vertical-align: middle;\n",
       "    }\n",
       "\n",
       "    .dataframe tbody tr th {\n",
       "        vertical-align: top;\n",
       "    }\n",
       "\n",
       "    .dataframe thead th {\n",
       "        text-align: right;\n",
       "    }\n",
       "</style>\n",
       "<table border=\"1\" class=\"dataframe\">\n",
       "  <thead>\n",
       "    <tr style=\"text-align: right;\">\n",
       "      <th></th>\n",
       "      <th>Vict Descent</th>\n",
       "      <th>Vict Age</th>\n",
       "      <th>Vict Sex</th>\n",
       "      <th>Value</th>\n",
       "    </tr>\n",
       "  </thead>\n",
       "  <tbody>\n",
       "    <tr>\n",
       "      <th>3</th>\n",
       "      <td>H</td>\n",
       "      <td>28</td>\n",
       "      <td>F</td>\n",
       "      <td>3917</td>\n",
       "    </tr>\n",
       "    <tr>\n",
       "      <th>4</th>\n",
       "      <td>H</td>\n",
       "      <td>29</td>\n",
       "      <td>F</td>\n",
       "      <td>3881</td>\n",
       "    </tr>\n",
       "    <tr>\n",
       "      <th>5</th>\n",
       "      <td>H</td>\n",
       "      <td>30</td>\n",
       "      <td>F</td>\n",
       "      <td>3780</td>\n",
       "    </tr>\n",
       "    <tr>\n",
       "      <th>6</th>\n",
       "      <td>H</td>\n",
       "      <td>25</td>\n",
       "      <td>F</td>\n",
       "      <td>3706</td>\n",
       "    </tr>\n",
       "    <tr>\n",
       "      <th>7</th>\n",
       "      <td>H</td>\n",
       "      <td>26</td>\n",
       "      <td>F</td>\n",
       "      <td>3674</td>\n",
       "    </tr>\n",
       "    <tr>\n",
       "      <th>8</th>\n",
       "      <td>H</td>\n",
       "      <td>31</td>\n",
       "      <td>F</td>\n",
       "      <td>3662</td>\n",
       "    </tr>\n",
       "    <tr>\n",
       "      <th>9</th>\n",
       "      <td>H</td>\n",
       "      <td>27</td>\n",
       "      <td>F</td>\n",
       "      <td>3658</td>\n",
       "    </tr>\n",
       "    <tr>\n",
       "      <th>10</th>\n",
       "      <td>H</td>\n",
       "      <td>32</td>\n",
       "      <td>F</td>\n",
       "      <td>3577</td>\n",
       "    </tr>\n",
       "    <tr>\n",
       "      <th>11</th>\n",
       "      <td>H</td>\n",
       "      <td>24</td>\n",
       "      <td>F</td>\n",
       "      <td>3577</td>\n",
       "    </tr>\n",
       "    <tr>\n",
       "      <th>12</th>\n",
       "      <td>H</td>\n",
       "      <td>30</td>\n",
       "      <td>M</td>\n",
       "      <td>3557</td>\n",
       "    </tr>\n",
       "    <tr>\n",
       "      <th>13</th>\n",
       "      <td>H</td>\n",
       "      <td>29</td>\n",
       "      <td>M</td>\n",
       "      <td>3489</td>\n",
       "    </tr>\n",
       "    <tr>\n",
       "      <th>14</th>\n",
       "      <td>H</td>\n",
       "      <td>28</td>\n",
       "      <td>M</td>\n",
       "      <td>3430</td>\n",
       "    </tr>\n",
       "    <tr>\n",
       "      <th>15</th>\n",
       "      <td>H</td>\n",
       "      <td>31</td>\n",
       "      <td>M</td>\n",
       "      <td>3405</td>\n",
       "    </tr>\n",
       "    <tr>\n",
       "      <th>16</th>\n",
       "      <td>H</td>\n",
       "      <td>33</td>\n",
       "      <td>F</td>\n",
       "      <td>3376</td>\n",
       "    </tr>\n",
       "    <tr>\n",
       "      <th>17</th>\n",
       "      <td>H</td>\n",
       "      <td>27</td>\n",
       "      <td>M</td>\n",
       "      <td>3356</td>\n",
       "    </tr>\n",
       "  </tbody>\n",
       "</table>\n",
       "</div>"
      ],
      "text/plain": [
       "   Vict Descent  Vict Age Vict Sex  Value\n",
       "3             H        28        F   3917\n",
       "4             H        29        F   3881\n",
       "5             H        30        F   3780\n",
       "6             H        25        F   3706\n",
       "7             H        26        F   3674\n",
       "8             H        31        F   3662\n",
       "9             H        27        F   3658\n",
       "10            H        32        F   3577\n",
       "11            H        24        F   3577\n",
       "12            H        30        M   3557\n",
       "13            H        29        M   3489\n",
       "14            H        28        M   3430\n",
       "15            H        31        M   3405\n",
       "16            H        33        F   3376\n",
       "17            H        27        M   3356"
      ]
     },
     "execution_count": 9,
     "metadata": {},
     "output_type": "execute_result"
    }
   ],
   "source": [
    "cross = crimes[['Vict Descent','Vict Age','Vict Sex']].value_counts().reset_index()\n",
    "cross = cross.loc[cross['Vict Age'] != 0]\n",
    "cross.rename(columns = {0:'Value'},inplace=True)\n",
    "cross.sort_values('Value',ascending=False,inplace=True)\n",
    "cross.head(15)"
   ]
  },
  {
   "cell_type": "markdown",
   "id": "b2616420-25bc-4c37-8ee7-3118958fac23",
   "metadata": {},
   "source": [
    "Hence, the most common victims are hispanic women in their late 20's - early 30's"
   ]
  },
  {
   "cell_type": "markdown",
   "id": "1d108cc7-0ba8-4a58-a4e1-a738183bd633",
   "metadata": {},
   "source": [
    "### How many crimes were armed vs unarmed?"
   ]
  },
  {
   "cell_type": "code",
   "execution_count": 10,
   "id": "7fece827-9612-48fa-9e2c-3402056e03c6",
   "metadata": {},
   "outputs": [
    {
     "data": {
      "image/png": "[encoded data removed]",
      "text/plain": [
       "<Figure size 432x288 with 1 Axes>"
      ]
     },
     "metadata": {
      "needs_background": "light"
     },
     "output_type": "display_data"
    }
   ],
   "source": [
    "crimes['Weapon Desc'].fillna('None',inplace=True)\n",
    "value_counts = crimes['Weapon Desc'].value_counts()\n",
    "\n",
    "plt.bar(['No', 'Yes'], [value_counts.get('None', 0), value_counts.sum() - value_counts.get('None', 0)])\n",
    "plt.xlabel('Value')\n",
    "plt.ylabel('Count')\n",
    "plt.title('Weapon Use in Crimes')\n",
    "plt.show()"
   ]
  },
  {
   "cell_type": "markdown",
   "id": "754f6991-1071-47f1-9234-132f64f59ff2",
   "metadata": {},
   "source": [
    "As we can see, the armed crime % is approximately an alarming 35% ($\\frac{2.8}{8}$)"
   ]
  },
  {
   "cell_type": "markdown",
   "id": "b8ed068e-e685-4b5b-8c12-879e40cf28ca",
   "metadata": {},
   "source": [
    "### Which are the most unsafe neighbourhoods?\n",
    "*Screenshot taken from tableau workbook*"
   ]
  },
  {
   "cell_type": "markdown",
   "id": "d53c89e9-822e-4a3e-b518-eb886aa23d77",
   "metadata": {},
   "source": [
    "![LA Crime Density Map](crimes_map.png)"
   ]
  },
  {
   "cell_type": "markdown",
   "id": "36d9aba4-0f36-4e9d-aa62-0a14bb4506c8",
   "metadata": {},
   "source": [
    "1. Heavy density of violent crime in the hollywood, skid row regions\n",
    "2. Crime belt extends of affluent areas of Beverly Hills, Brentwood, and Westwood"
   ]
  },
  {
   "cell_type": "code",
   "execution_count": 11,
   "id": "efe35bae-91dc-44e3-944a-0efbe55da398",
   "metadata": {},
   "outputs": [
    {
     "data": {
      "text/plain": [
       "Text(0.5, 1.0, 'Crime by LA Neighbourhood')"
      ]
     },
     "execution_count": 11,
     "metadata": {},
     "output_type": "execute_result"
    },
    {
     "data": {
      "image/png": "[encoded data removed]",
      "text/plain": [
       "<Figure size 720x720 with 1 Axes>"
      ]
     },
     "metadata": {
      "needs_background": "light"
     },
     "output_type": "display_data"
    }
   ],
   "source": [
    "plt.figure(figsize=(10,10))\n",
    "plt.bar(height = crimes['AREA NAME'].value_counts().values, x=crimes['AREA NAME'].value_counts().index,color =['red','green',\n",
    "                                                                                                              'blue','black','orange'])\n",
    "plt.xticks(rotation=45)\n",
    "plt.xlabel('Neighbourhood')\n",
    "plt.ylabel('Number of Reported Crimes')\n",
    "plt.title('Crime by LA Neighbourhood')"
   ]
  },
  {
   "cell_type": "markdown",
   "id": "431ca9d7-09c4-4cf4-8d11-5b66b2e5a414",
   "metadata": {},
   "source": [
    "Thus, this confirms our hypothesis of the most unsafe neighbourhoods being located in the belt between Beverly Hills and Jefferson Park"
   ]
  },
  {
   "cell_type": "markdown",
   "id": "cb2390da-1490-433f-857a-f3c6acd1f47b",
   "metadata": {},
   "source": [
    "### What is the trend over time of crimes committed? Are there seasonal patterns?"
   ]
  },
  {
   "cell_type": "code",
   "execution_count": 12,
   "id": "c1ac9390-c5a8-4ed1-b729-5ffb33dbe91a",
   "metadata": {},
   "outputs": [
    {
     "data": {
      "image/png": "[encoded data removed]",
      "text/plain": [
       "<Figure size 864x576 with 2 Axes>"
      ]
     },
     "metadata": {
      "needs_background": "light"
     },
     "output_type": "display_data"
    }
   ],
   "source": [
    "dates1 = crimes.groupby('DATE OCC').size().reset_index().rename(columns = {0:'crime_count'})\n",
    "dates2 = arrests.groupby('Arrest Date').size().reset_index().rename(columns = {0:'arrest_count'})\n",
    "\n",
    "fig, ax1 = plt.subplots(figsize=(12,8))\n",
    "\n",
    "ax1.plot(dates1['DATE OCC'], dates1['crime_count'], color='b', label='Crime Over Time')\n",
    "ax1.set_xlabel('Date')\n",
    "ax1.set_ylabel('Number of Crimes', color='b')\n",
    "ax1.tick_params(axis='y', labelcolor='b')\n",
    "\n",
    "\n",
    "ax1.xaxis.set_major_locator(mdates.DayLocator(interval=60))  \n",
    "ax1.xaxis.set_major_formatter(mdates.DateFormatter('%Y-%m'))\n",
    "plt.xticks(rotation=45)\n",
    "\n",
    "\n",
    "ax2 = ax1.twinx()\n",
    "\n",
    "ax2.plot(dates2['Arrest Date'], dates2['arrest_count'], color='r', label='Arrests Over Time')\n",
    "ax2.set_ylabel('Number of Arrests', color='r')\n",
    "ax2.tick_params(axis='y', labelcolor='r')\n",
    "\n",
    "\n",
    "lines1, labels1 = ax1.get_legend_handles_labels()\n",
    "lines2, labels2 = ax2.get_legend_handles_labels()\n",
    "lines = lines1 + lines2\n",
    "labels = labels1 + labels2\n",
    "ax1.legend(lines, labels, loc=\"upper left\")\n",
    "\n",
    "plt.title('Crime & Arrests Over Time')\n",
    "plt.show()"
   ]
  },
  {
   "cell_type": "markdown",
   "id": "70d0dea0-0315-431d-9b1f-82d9dc6740ae",
   "metadata": {},
   "source": [
    "#### Key Observations:\n",
    "1. Since the onset of COVID and the George Floyd incident (look at 2020-03), arrests have always been siginificantly deficient of the crime rate\n",
    "2. Arrests are able to move with the dips in crime, but fall short of adjusting to the spikes in the crime rate"
   ]
  },
  {
   "cell_type": "markdown",
   "id": "a8c1aff9-1e8e-4975-9785-dc2953af3d1d",
   "metadata": {},
   "source": [
    "### Who is being arrested?"
   ]
  },
  {
   "cell_type": "code",
   "execution_count": 13,
   "id": "e8fe6b45-3a3f-46c4-81bc-7bfe8f267d44",
   "metadata": {},
   "outputs": [
    {
     "data": {
      "image/png": "[encoded data removed]",
      "text/plain": [
       "<Figure size 432x288 with 1 Axes>"
      ]
     },
     "metadata": {
      "needs_background": "light"
     },
     "output_type": "display_data"
    }
   ],
   "source": [
    "plt.hist(arrests['Age'],bins=20)\n",
    "plt.xlabel('Age')\n",
    "plt.ylabel('Number Arrested')\n",
    "plt.title('Age Distribution of Arrested Suspects')\n",
    "\n",
    "\n",
    "plt.plot\n",
    "plt.show()"
   ]
  },
  {
   "cell_type": "code",
   "execution_count": 14,
   "id": "0a251af3-9196-452f-b63a-5c00f80c3006",
   "metadata": {},
   "outputs": [
    {
     "data": {
      "text/plain": [
       "<BarContainer object of 2 artists>"
      ]
     },
     "execution_count": 14,
     "metadata": {},
     "output_type": "execute_result"
    },
    {
     "data": {
      "image/png": "[encoded data removed]",
      "text/plain": [
       "<Figure size 432x288 with 1 Axes>"
      ]
     },
     "metadata": {
      "needs_background": "light"
     },
     "output_type": "display_data"
    }
   ],
   "source": [
    "plt.title('Sex of Arrested Suspects')\n",
    "plt.ylabel('Number Arrested')\n",
    "plt.bar(arrests['Sex Code'].value_counts().index,arrests['Sex Code'].value_counts().values)"
   ]
  },
  {
   "cell_type": "code",
   "execution_count": 15,
   "id": "d3749245-5139-4fae-a2fc-646f42e5608c",
   "metadata": {},
   "outputs": [
    {
     "data": {
      "image/png": "[encoded data removed]",
      "text/plain": [
       "<Figure size 432x288 with 1 Axes>"
      ]
     },
     "metadata": {
      "needs_background": "light"
     },
     "output_type": "display_data"
    }
   ],
   "source": [
    "plt.title('Number of Arrested by Race')\n",
    "plt.text(x = 1,y=100000,s = ('Hispanic','Black','White','Other','Asian'))\n",
    "plt.bar(arrests['Descent Code'].value_counts().head(5).index,arrests['Descent Code'].value_counts().head(5).values)\n",
    "plt.show()"
   ]
  },
  {
   "cell_type": "code",
   "execution_count": 16,
   "id": "85c87391-4141-42b4-946f-ce403474977e",
   "metadata": {},
   "outputs": [
    {
     "data": {
      "text/plain": [
       "<BarContainer object of 5 artists>"
      ]
     },
     "execution_count": 16,
     "metadata": {},
     "output_type": "execute_result"
    },
    {
     "data": {
      "image/png": "[encoded data removed]",
      "text/plain": [
       "<Figure size 432x288 with 1 Axes>"
      ]
     },
     "metadata": {
      "needs_background": "light"
     },
     "output_type": "display_data"
    }
   ],
   "source": [
    "plt.bar(arrests['Area Name'].value_counts().head(5).index,arrests['Area Name'].value_counts().head(5).values)"
   ]
  },
  {
   "cell_type": "markdown",
   "id": "39c38f93-9d75-43dc-bd9e-da8abbf7467c",
   "metadata": {},
   "source": [
    "Arrests are in the same locations are crimes, which would indicate little to none criminal migration to and fro scene of crime"
   ]
  },
  {
   "cell_type": "markdown",
   "id": "575351c8-e727-495b-ac0a-87e569216ae1",
   "metadata": {},
   "source": [
    "#### Are arrests and crimes proportional to population composition?"
   ]
  },
  {
   "cell_type": "code",
   "execution_count": null,
   "id": "e0af3895-8627-4f69-8805-3c51ebc8b6d7",
   "metadata": {},
   "outputs": [],
   "source": [
    "totals = crimes.groupby('Vict Descent').size().reset_index().sort_values(0,ascending=False).rename(columns={0:'count'})\n",
    "total_sum = totals['count'].sum()\n",
    "totals['percent'] = (totals['count'] / total_sum) * 100\n",
    "totals"
   ]
  },
  {
   "cell_type": "code",
   "execution_count": 38,
   "id": "1fc09559-9d96-4d0d-bbc0-44a388850c5d",
   "metadata": {},
   "outputs": [
    {
     "data": {
      "text/html": [
       "<div>\n",
       "<style scoped>\n",
       "    .dataframe tbody tr th:only-of-type {\n",
       "        vertical-align: middle;\n",
       "    }\n",
       "\n",
       "    .dataframe tbody tr th {\n",
       "        vertical-align: top;\n",
       "    }\n",
       "\n",
       "    .dataframe thead th {\n",
       "        text-align: right;\n",
       "    }\n",
       "</style>\n",
       "<table border=\"1\" class=\"dataframe\">\n",
       "  <thead>\n",
       "    <tr style=\"text-align: right;\">\n",
       "      <th></th>\n",
       "      <th>Descent Code</th>\n",
       "      <th>count</th>\n",
       "      <th>percent</th>\n",
       "    </tr>\n",
       "  </thead>\n",
       "  <tbody>\n",
       "    <tr>\n",
       "      <th>6</th>\n",
       "      <td>H</td>\n",
       "      <td>123019</td>\n",
       "      <td>51.586133</td>\n",
       "    </tr>\n",
       "    <tr>\n",
       "      <th>1</th>\n",
       "      <td>B</td>\n",
       "      <td>64304</td>\n",
       "      <td>26.964897</td>\n",
       "    </tr>\n",
       "    <tr>\n",
       "      <th>16</th>\n",
       "      <td>W</td>\n",
       "      <td>37204</td>\n",
       "      <td>15.600928</td>\n",
       "    </tr>\n",
       "    <tr>\n",
       "      <th>11</th>\n",
       "      <td>O</td>\n",
       "      <td>12661</td>\n",
       "      <td>5.309196</td>\n",
       "    </tr>\n",
       "    <tr>\n",
       "      <th>0</th>\n",
       "      <td>A</td>\n",
       "      <td>780</td>\n",
       "      <td>0.327081</td>\n",
       "    </tr>\n",
       "    <tr>\n",
       "      <th>2</th>\n",
       "      <td>C</td>\n",
       "      <td>133</td>\n",
       "      <td>0.055772</td>\n",
       "    </tr>\n",
       "    <tr>\n",
       "      <th>4</th>\n",
       "      <td>F</td>\n",
       "      <td>121</td>\n",
       "      <td>0.050739</td>\n",
       "    </tr>\n",
       "    <tr>\n",
       "      <th>9</th>\n",
       "      <td>K</td>\n",
       "      <td>108</td>\n",
       "      <td>0.045288</td>\n",
       "    </tr>\n",
       "    <tr>\n",
       "      <th>17</th>\n",
       "      <td>X</td>\n",
       "      <td>40</td>\n",
       "      <td>0.016773</td>\n",
       "    </tr>\n",
       "    <tr>\n",
       "      <th>5</th>\n",
       "      <td>G</td>\n",
       "      <td>35</td>\n",
       "      <td>0.014677</td>\n",
       "    </tr>\n",
       "    <tr>\n",
       "      <th>12</th>\n",
       "      <td>P</td>\n",
       "      <td>21</td>\n",
       "      <td>0.008806</td>\n",
       "    </tr>\n",
       "    <tr>\n",
       "      <th>7</th>\n",
       "      <td>I</td>\n",
       "      <td>15</td>\n",
       "      <td>0.006290</td>\n",
       "    </tr>\n",
       "    <tr>\n",
       "      <th>8</th>\n",
       "      <td>J</td>\n",
       "      <td>14</td>\n",
       "      <td>0.005871</td>\n",
       "    </tr>\n",
       "    <tr>\n",
       "      <th>13</th>\n",
       "      <td>S</td>\n",
       "      <td>5</td>\n",
       "      <td>0.002097</td>\n",
       "    </tr>\n",
       "    <tr>\n",
       "      <th>14</th>\n",
       "      <td>U</td>\n",
       "      <td>4</td>\n",
       "      <td>0.001677</td>\n",
       "    </tr>\n",
       "    <tr>\n",
       "      <th>18</th>\n",
       "      <td>Z</td>\n",
       "      <td>4</td>\n",
       "      <td>0.001677</td>\n",
       "    </tr>\n",
       "    <tr>\n",
       "      <th>15</th>\n",
       "      <td>V</td>\n",
       "      <td>2</td>\n",
       "      <td>0.000839</td>\n",
       "    </tr>\n",
       "    <tr>\n",
       "      <th>3</th>\n",
       "      <td>D</td>\n",
       "      <td>2</td>\n",
       "      <td>0.000839</td>\n",
       "    </tr>\n",
       "    <tr>\n",
       "      <th>10</th>\n",
       "      <td>L</td>\n",
       "      <td>1</td>\n",
       "      <td>0.000419</td>\n",
       "    </tr>\n",
       "  </tbody>\n",
       "</table>\n",
       "</div>"
      ],
      "text/plain": [
       "   Descent Code   count    percent\n",
       "6             H  123019  51.586133\n",
       "1             B   64304  26.964897\n",
       "16            W   37204  15.600928\n",
       "11            O   12661   5.309196\n",
       "0             A     780   0.327081\n",
       "2             C     133   0.055772\n",
       "4             F     121   0.050739\n",
       "9             K     108   0.045288\n",
       "17            X      40   0.016773\n",
       "5             G      35   0.014677\n",
       "12            P      21   0.008806\n",
       "7             I      15   0.006290\n",
       "8             J      14   0.005871\n",
       "13            S       5   0.002097\n",
       "14            U       4   0.001677\n",
       "18            Z       4   0.001677\n",
       "15            V       2   0.000839\n",
       "3             D       2   0.000839\n",
       "10            L       1   0.000419"
      ]
     },
     "execution_count": 38,
     "metadata": {},
     "output_type": "execute_result"
    }
   ],
   "source": [
    "totals = arrests.groupby('Descent Code').size().reset_index().sort_values(0,ascending=False).rename(columns={0:'count'})\n",
    "total_sum = totals['count'].sum()\n",
    "totals['percent'] = (totals['count'] / total_sum) * 100\n",
    "totals"
   ]
  },
  {
   "cell_type": "code",
   "execution_count": 42,
   "id": "55405bf8-5784-43d7-b731-ba94deeaa378",
   "metadata": {},
   "outputs": [
    {
     "data": {
      "text/html": [
       "<div>\n",
       "<style scoped>\n",
       "    .dataframe tbody tr th:only-of-type {\n",
       "        vertical-align: middle;\n",
       "    }\n",
       "\n",
       "    .dataframe tbody tr th {\n",
       "        vertical-align: top;\n",
       "    }\n",
       "\n",
       "    .dataframe thead th {\n",
       "        text-align: right;\n",
       "    }\n",
       "</style>\n",
       "<table border=\"1\" class=\"dataframe\">\n",
       "  <thead>\n",
       "    <tr style=\"text-align: right;\">\n",
       "      <th></th>\n",
       "      <th>race</th>\n",
       "      <th>population</th>\n",
       "      <th>victim_percent</th>\n",
       "      <th>arrest_percent</th>\n",
       "    </tr>\n",
       "  </thead>\n",
       "  <tbody>\n",
       "    <tr>\n",
       "      <th>0</th>\n",
       "      <td>Hispanic</td>\n",
       "      <td>46.9</td>\n",
       "      <td>35.31</td>\n",
       "      <td>51.58</td>\n",
       "    </tr>\n",
       "    <tr>\n",
       "      <th>1</th>\n",
       "      <td>White</td>\n",
       "      <td>28.9</td>\n",
       "      <td>23.53</td>\n",
       "      <td>15.60</td>\n",
       "    </tr>\n",
       "    <tr>\n",
       "      <th>2</th>\n",
       "      <td>Black</td>\n",
       "      <td>8.3</td>\n",
       "      <td>16.45</td>\n",
       "      <td>26.90</td>\n",
       "    </tr>\n",
       "    <tr>\n",
       "      <th>3</th>\n",
       "      <td>Asian</td>\n",
       "      <td>11.7</td>\n",
       "      <td>2.50</td>\n",
       "      <td>0.30</td>\n",
       "    </tr>\n",
       "    <tr>\n",
       "      <th>4</th>\n",
       "      <td>Other</td>\n",
       "      <td>4.2</td>\n",
       "      <td>3.30</td>\n",
       "      <td>6.00</td>\n",
       "    </tr>\n",
       "  </tbody>\n",
       "</table>\n",
       "</div>"
      ],
      "text/plain": [
       "       race  population  victim_percent  arrest_percent\n",
       "0  Hispanic        46.9           35.31           51.58\n",
       "1     White        28.9           23.53           15.60\n",
       "2     Black         8.3           16.45           26.90\n",
       "3     Asian        11.7            2.50            0.30\n",
       "4     Other         4.2            3.30            6.00"
      ]
     },
     "execution_count": 42,
     "metadata": {},
     "output_type": "execute_result"
    }
   ],
   "source": [
    "races = ['Hispanic','White','Black','Asian','Other']\n",
    "population = [46.9,28.9,8.3,11.7,4.2]\n",
    "victim = [35.31,23.53,16.45,2.5,3.3]\n",
    "arrests = [51.58,15.6,26.9,0.3,6]\n",
    "df = pd.DataFrame({'race':races,'population':population,'victim_percent':victim,'arrest_percent':arrests})\n",
    "df"
   ]
  },
  {
   "cell_type": "markdown",
   "id": "8536f1bd-d701-4a15-b664-63c6d432f15c",
   "metadata": {},
   "source": [
    "#### Key Observations:\n",
    "1. Alarming rate for disparity in population composition and arrest percent for the Black community. This could be indicative of one of the following:  \n",
    "a) Higher than population average crime rate  \n",
    "b) Police bias towards arresting black people  \n",
    "c) High rates of violence in the black community  \n",
    "As we know, there have been numerous studies confirming all of the above. The third one could be contributed to a large portion by the gang culture and substance abuse related violence."
   ]
  }
 ],
 "metadata": {
  "kernelspec": {
   "display_name": "Python 3 (ipykernel)",
   "language": "python",
   "name": "python3"
  },
  "language_info": {
   "codemirror_mode": {
    "name": "ipython",
    "version": 3
   },
   "file_extension": ".py",
   "mimetype": "text/x-python",
   "name": "python",
   "nbconvert_exporter": "python",
   "pygments_lexer": "ipython3",
   "version": "3.9.12"
  }
 },
 "nbformat": 4,
 "nbformat_minor": 5
}
